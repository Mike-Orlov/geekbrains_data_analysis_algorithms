{
  "nbformat": 4,
  "nbformat_minor": 0,
  "metadata": {
    "kernelspec": {
      "display_name": "Python 3",
      "language": "python",
      "name": "python3"
    },
    "language_info": {
      "codemirror_mode": {
        "name": "ipython",
        "version": 3
      },
      "file_extension": ".py",
      "mimetype": "text/x-python",
      "name": "python",
      "nbconvert_exporter": "python",
      "pygments_lexer": "ipython3",
      "version": "3.7.1"
    },
    "colab": {
      "name": "Homework_1.ipynb",
      "provenance": [],
      "collapsed_sections": []
    }
  },
  "cells": [
    {
      "cell_type": "code",
      "metadata": {
        "id": "bJ1KA9cq9INW"
      },
      "source": [
        "import matplotlib\n",
        "import numpy as np\n",
        "import matplotlib.pyplot as plt\n",
        "%matplotlib inline"
      ],
      "execution_count": 1,
      "outputs": []
    },
    {
      "cell_type": "markdown",
      "metadata": {
        "id": "fkskCJdb9INV"
      },
      "source": [
        "**Урок 1.**<br>\r\n",
        "<b>Домашнее задание: оптимизировать x^2*(np.sin(0,5*_x)^2+1)</b>\r\n",
        "<ul>\r\n",
        "<li>При каких значениях alpha оптимизация проходит успешно, а при каких \"застревает\"?</li></ul>"
      ]
    },
    {
      "cell_type": "code",
      "metadata": {
        "id": "k-sYDyFj9INZ"
      },
      "source": [
        "np.random.seed(14)"
      ],
      "execution_count": 2,
      "outputs": []
    },
    {
      "cell_type": "code",
      "metadata": {
        "colab": {
          "base_uri": "https://localhost:8080/",
          "height": 265
        },
        "id": "gEbXp_lT2icV",
        "outputId": "7b407158-2031-46cc-9880-bd26290f4a16"
      },
      "source": [
        "x = np.linspace(-50, 50, 5000)\r\n",
        "def func2(_x): return (_x**2)*(np.sin(0.5*_x)**2+1)  # Находим производную по фурмулам\r\n",
        "plt.plot(x, func2(x))\r\n",
        "plt.show()"
      ],
      "execution_count": 3,
      "outputs": [
        {
          "output_type": "display_data",
          "data": {
            "image/png": "[encoded data removed]",
            "text/plain": [
              "<Figure size 432x288 with 1 Axes>"
            ]
          },
          "metadata": {
            "tags": [],
            "needs_background": "light"
          }
        }
      ]
    },
    {
      "cell_type": "code",
      "metadata": {
        "id": "_8FMW-av2mQq"
      },
      "source": [
        "def true_grad2(_x): return _x*(2+2*np.sin(0.5*_x)**2+_x*np.sin(0.5*_x)*np.cos(0.5*_x))\r\n",
        "def calculate_grad(func, x0, delta=0.00001): return (func(x0+delta)-func(x0))/delta\r\n",
        "def calculate_grad2(func, x0, delta=0.00001): return (func(x0+delta)-func(x0-delta))/(2*delta)"
      ],
      "execution_count": 4,
      "outputs": []
    },
    {
      "cell_type": "code",
      "metadata": {
        "colab": {
          "base_uri": "https://localhost:8080/"
        },
        "id": "zM94l6330ebW",
        "outputId": "4bb0e128-78c7-4635-dea9-b95f322a94b3"
      },
      "source": [
        "x0=np.random.uniform(-50, 50)\r\n",
        "print('true grad', true_grad2(x0))\r\n",
        "print('method1', calculate_grad(func2, x0))\r\n",
        "print('method2', calculate_grad2(func2, x0)) # Из вычислительных методов этот точнее, чем предыдущий"
      ],
      "execution_count": 5,
      "outputs": [
        {
          "output_type": "stream",
          "text": [
            "true grad 4.895219751388413\n",
            "method1 4.895248453706813\n",
            "method2 4.895219751444024\n"
          ],
          "name": "stdout"
        }
      ]
    },
    {
      "cell_type": "code",
      "metadata": {
        "colab": {
          "base_uri": "https://localhost:8080/"
        },
        "id": "ayq1znqEBOKG",
        "outputId": "9c93ba50-fb28-4c7f-8daf-e2b4d0c4a0c1"
      },
      "source": [
        "x0=np.random.uniform(-50, 50)\r\n",
        "print(x0)\r\n",
        "alpha=0.05\r\n",
        "w_list=[]\r\n",
        "for x in range(500):\r\n",
        "  if x%10==0:\r\n",
        "    print(x0, func2(x0))\r\n",
        "  w_list.append([x0, func2(x0)])\r\n",
        "  x0-=alpha*true_grad2(x0)\r\n",
        "w_list=np.array(w_list)"
      ],
      "execution_count": 47,
      "outputs": [
        {
          "output_type": "stream",
          "text": [
            "-24.24075670793823\n",
            "-24.24075670793823 696.9491276962847\n",
            "-0.4955023724880867 0.2602871081659824\n",
            "-0.16286675415347052 0.026701092721198864\n",
            "-0.056405393836721204 0.0031840983774651605\n",
            "-0.019651293917755802 0.0003862106339068231\n",
            "-0.006851302981164856 4.694090338673783e-05\n",
            "-0.002388872834698586 5.706721562001502e-06\n",
            "-0.0008329472326976052 6.938012127985805e-07\n",
            "-0.0002904306900272683 8.434998748844519e-08\n",
            "-0.00010126691776190617 1.0254988659287866e-08\n",
            "-3.530959082595157e-05 1.2467672046847303e-09\n",
            "-1.2311693045819478e-05 1.5157778566022366e-10\n",
            "-4.292821926039222e-06 1.8428320088767993e-11\n",
            "-1.4968144527913483e-06 2.240453506086319e-12\n",
            "-5.219069285181221e-07 2.7238684203523875e-13\n",
            "-1.8197769371306827e-07 3.311588100912756e-14\n",
            "-6.345169837686768e-08 4.026118026908997e-15\n",
            "-2.2124239211741892e-08 4.894819606983776e-16\n",
            "-7.714245216749416e-09 5.950957926414124e-17\n",
            "-2.689790988725072e-09 7.2349755630266e-18\n",
            "-9.378721261436951e-10 8.796041249972953e-19\n",
            "-3.27015789957054e-10 1.0693932688123606e-19\n",
            "-1.1402335553029484e-10 1.300132560638802e-20\n",
            "-3.975748574127091e-11 1.5806576724673597e-21\n",
            "-1.386257811056433e-11 1.9217107187149732e-22\n",
            "-4.833582111355975e-12 2.3363516027220486e-23\n",
            "-1.685365870682866e-12 2.840458118062615e-24\n",
            "-5.876507427874801e-13 3.4533339549867707e-25\n",
            "-2.049011443187449e-13 4.198447894313113e-26\n",
            "-7.144461137576494e-14 5.104332494634081e-27\n",
            "-2.4911195648052434e-14 6.205676686155465e-28\n",
            "-8.68599683958883e-15 7.544654109734715e-29\n",
            "-3.028619828741363e-15 9.172538067045362e-30\n",
            "-1.0560144375414676e-15 1.1151664922960222e-30\n",
            "-3.682094668050378e-16 1.3557821144485025e-31\n",
            "-1.2838670251563333e-16 1.6483145382837728e-32\n",
            "-4.476567516273378e-17 2.0039656727754e-33\n",
            "-1.5608825785765324e-17 2.436354424103725e-34\n",
            "-5.44246102677331e-18 2.962038202794639e-35\n",
            "-1.897668821120362e-18 3.601146954652345e-36\n",
            "-6.616762043746537e-19 4.378153994356485e-37\n",
            "-2.3071222679264306e-19 5.322813159161997e-38\n",
            "-8.044437935005621e-20 6.47129816901575e-39\n",
            "-2.804922070659025e-20 7.867587822470112e-40\n",
            "-9.780158521994507e-21 9.565150071534178e-41\n",
            "-3.410130417379766e-21 1.1628989463538696e-41\n",
            "-1.1890389544695387e-21 1.4138136352460137e-42\n",
            "-4.145922478625736e-22 1.7188673198774165e-43\n",
            "-1.445593782622747e-22 2.089741384357542e-44\n",
            "-5.040473851431579e-23 2.5406376646965495e-45\n"
          ],
          "name": "stdout"
        }
      ]
    },
    {
      "cell_type": "code",
      "metadata": {
        "id": "Afahfb849IN4",
        "colab": {
          "base_uri": "https://localhost:8080/",
          "height": 406
        },
        "outputId": "e553c648-4c92-465c-f0af-8d8acd11af3d"
      },
      "source": [
        "# Визуализируем изменение весов (красной точкой обозначены истинные веса, сгенерированные вначале)\n",
        "plt.figure(figsize=(13, 6))\n",
        "plt.title('Gradient descent')\n",
        "plt.xlabel(r'$x0$')\n",
        "plt.ylabel(r'$y$')\n",
        "\n",
        "plt.scatter(w_list[:, 0], w_list[:, 1])\n",
        "plt.scatter(0, 0, c='r')\n",
        "plt.plot(w_list[:, 0], w_list[:, 1])\n",
        "\n",
        "plt.show()"
      ],
      "execution_count": 44,
      "outputs": [
        {
          "output_type": "display_data",
          "data": {
            "image/png": "[encoded data removed]",
            "text/plain": [
              "<Figure size 936x432 with 1 Axes>"
            ]
          },
          "metadata": {
            "tags": [],
            "needs_background": "light"
          }
        }
      ]
    },
    {
      "cell_type": "markdown",
      "metadata": {
        "id": "XlOcyg8FJq5r"
      },
      "source": [
        "Отвечая на вопрос о подходящих значениях alpha, его должно быть достаточно, чтобы преодолеть локальные минимумы. В частности при значении 0.5 \"застреваний\" уже не происходит и это подтверждается геометрически графиком оптимизируемой функции.<br>\r\n",
        "При значениях 0.3 и ниже происходит \"застревание\" в локальных минимумах."
      ]
    }
  ]
}