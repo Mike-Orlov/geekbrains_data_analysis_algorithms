{
  "nbformat": 4,
  "nbformat_minor": 0,
  "metadata": {
    "kernelspec": {
      "display_name": "Python 3",
      "language": "python",
      "name": "python3"
    },
    "language_info": {
      "codemirror_mode": {
        "name": "ipython",
        "version": 3
      },
      "file_extension": ".py",
      "mimetype": "text/x-python",
      "name": "python",
      "nbconvert_exporter": "python",
      "pygments_lexer": "ipython3",
      "version": "3.7.1"
    },
    "colab": {
      "name": "Homework_2.ipynb",
      "provenance": [],
      "collapsed_sections": []
    }
  },
  "cells": [
    {
      "cell_type": "code",
      "metadata": {
        "id": "bJ1KA9cq9INW"
      },
      "source": [
        "import numpy as np\n",
        "import matplotlib.pyplot as plt\n",
        "from sklearn import datasets, linear_model\n",
        "from sklearn.preprocessing import PolynomialFeatures\n",
        "from sklearn.pipeline import make_pipeline\n",
        "\n",
        "%matplotlib inline\n",
        "\n",
        "seed = 14\n",
        "rng = np.random.default_rng(seed)"
      ],
      "execution_count": 1,
      "outputs": []
    },
    {
      "cell_type": "markdown",
      "metadata": {
        "id": "fkskCJdb9INV"
      },
      "source": [
        "**Урок 2.**<br>\r\n",
        "**Задание 1:** Модифицировать реализацию линейной регрессии из предыдущего урока, добавив l2 регулярязационную поправку к штрафной функции: +𝑐∗∑(𝑤_j)^2 и соответствующую к выражению для производной. Опробовать реализацию на примере с полиномиальными фичами 6го порядка из данного урока. При каком значении С в воспроизводимой функции не будет воспроизводить несуществующий минимум в окрестностях x=7,5?"
      ]
    },
    {
      "cell_type": "code",
      "metadata": {
        "id": "5Wu6z2QxXjMs"
      },
      "source": [
        "# Возьмем 2 признака и 1000 объектов\r\n",
        "n_features = 2\r\n",
        "n_objects = 1000\r\n",
        "\r\n",
        "# сгенерируем вектор истинных весов\r\n",
        "w_true = rng.normal(size=(n_features, ))\r\n",
        "\r\n",
        "# сгенерируем матрицу X, вычислим Y с добавлением случайного шума\r\n",
        "X = rng.uniform(-7, 7, (n_objects, n_features))\r\n",
        "Y = X.dot(w_true) + rng.normal(0, 0.5, size=(n_objects))\r\n",
        "\r\n",
        "# возьмем нулевые начальные веса\r\n",
        "w = np.zeros(n_features)\r\n",
        "\r\n",
        "# единичная матрица для формулы с регуляризацией L2\r\n",
        "E = np.eye(X.shape[1], dtype=int)"
      ],
      "execution_count": 9,
      "outputs": []
    },
    {
      "cell_type": "code",
      "metadata": {
        "id": "bF7VQkpCc1fk"
      },
      "source": [
        "# реализуем функцию, определяющую среднеквадратичную ошибку\r\n",
        "def mserror_L2(X, w, y_pred, l2_coef=0.1):\r\n",
        "    y = X.dot(w)\r\n",
        "    return (sum((y - y_pred)**2)) / len(y) + l2_coef * w.dot(w.T)  # + c*||w||^2 для регуляризационной поправки\r\n",
        "\r\n",
        "def mserror(X, w, y_pred):\r\n",
        "    y = X.dot(w)\r\n",
        "    return (sum((y - y_pred)**2)) / len(y)"
      ],
      "execution_count": 10,
      "outputs": []
    },
    {
      "cell_type": "code",
      "metadata": {
        "id": "U-p_fGarPviz"
      },
      "source": [
        "# список векторов весов после каждой итерации\r\n",
        "w_list = [w.copy()]\r\n",
        "\r\n",
        "# список значений ошибок после каждой итерации\r\n",
        "errors = []\r\n",
        "\r\n",
        "# шаг градиентного спуска\r\n",
        "eta = 0.01\r\n",
        "\r\n",
        "# максимальное число итераций\r\n",
        "max_iter = 1e7\r\n",
        "\r\n",
        "# критерий сходимости (разница весов, при которой алгоритм останавливается)\r\n",
        "min_weight_dist = 1e-9\r\n",
        "\r\n",
        "# зададим начальную разницу весов большим числом\r\n",
        "weight_dist = np.inf\r\n",
        "\r\n",
        "# счетчик итераций\r\n",
        "iter_num = 0\r\n",
        "\r\n",
        "# Коэффициент L2 регуляризации\r\n",
        "l2_coef = 0.1"
      ],
      "execution_count": 11,
      "outputs": []
    },
    {
      "cell_type": "code",
      "metadata": {
        "colab": {
          "base_uri": "https://localhost:8080/"
        },
        "id": "EwT7H6-UiUDQ",
        "outputId": "cf267f52-c7bf-4d15-fda8-392cc6eee5a3"
      },
      "source": [
        "# ход градиентного спуска\r\n",
        "while weight_dist > min_weight_dist and iter_num < max_iter:\r\n",
        "    new_w = w - eta * (2 * np.dot(X.T, (np.dot(X, w) - Y)) / Y.shape[0] - l2_coef * 2 * w)  # L2 реугляризация\r\n",
        "    weight_dist = np.linalg.norm(new_w - w, ord=2)\r\n",
        "    \r\n",
        "    w_list.append(new_w.copy())\r\n",
        "    cur_error = mserror_L2(X, new_w, Y, l2_coef)\r\n",
        "    errors.append(cur_error)\r\n",
        "    print(f'Current error: {cur_error}')\r\n",
        "\r\n",
        "    iter_num += 1\r\n",
        "    w = new_w\r\n",
        "    print(f'Значение w: {w}')\r\n",
        "    \r\n",
        "w_list = np.array(w_list)\r\n",
        "\r\n",
        "#print(X.shape, w.shape)\r\n",
        "#print(w)"
      ],
      "execution_count": 22,
      "outputs": [
        {
          "output_type": "stream",
          "text": [
            "Current error: 0.5707295557575058\n",
            "Значение w: [0.06787121]\n",
            "Current error: 0.39538012700565806\n",
            "Значение w: [0.11381863]\n",
            "Current error: 0.3158617179570762\n",
            "Значение w: [0.14492409]\n",
            "Current error: 0.2799900122085496\n",
            "Значение w: [0.16598186]\n",
            "Current error: 0.26393698196360105\n",
            "Значение w: [0.18023753]\n",
            "Current error: 0.256841861566499\n",
            "Значение w: [0.18988833]\n",
            "Current error: 0.253767530262668\n",
            "Значение w: [0.19642173]\n",
            "Current error: 0.2524786372157245\n",
            "Значение w: [0.2008447]\n",
            "Current error: 0.2519692255403395\n",
            "Значение w: [0.20383897]\n",
            "Current error: 0.25179079296985685\n",
            "Значение w: [0.20586602]\n",
            "Current error: 0.2517462722699764\n",
            "Значение w: [0.2072383]\n",
            "Current error: 0.2517510893718546\n",
            "Значение w: [0.2081673]\n",
            "Current error: 0.2517703711558144\n",
            "Значение w: [0.20879621]\n",
            "Current error: 0.25179076683946555\n",
            "Значение w: [0.20922198]\n",
            "Current error: 0.25180793929080003\n",
            "Значение w: [0.20951021]\n",
            "Current error: 0.2518211068688891\n",
            "Значение w: [0.20970534]\n",
            "Current error: 0.25183072783302846\n",
            "Значение w: [0.20983743]\n",
            "Current error: 0.2518375649486415\n",
            "Значение w: [0.20992686]\n",
            "Current error: 0.251842341988913\n",
            "Значение w: [0.2099874]\n",
            "Current error: 0.25184564398362586\n",
            "Значение w: [0.21002839]\n",
            "Current error: 0.2518479105475828\n",
            "Значение w: [0.21005613]\n",
            "Current error: 0.2518494592553598\n",
            "Значение w: [0.21007492]\n",
            "Current error: 0.25185051424813504\n",
            "Значение w: [0.21008763]\n",
            "Current error: 0.25185123145821575\n",
            "Значение w: [0.21009624]\n",
            "Current error: 0.25185171837038955\n",
            "Значение w: [0.21010207]\n",
            "Current error: 0.25185204863042077\n",
            "Значение w: [0.21010601]\n",
            "Current error: 0.25185227249864506\n",
            "Значение w: [0.21010868]\n",
            "Current error: 0.2518524241852741\n",
            "Значение w: [0.21011049]\n",
            "Current error: 0.25185252693470944\n",
            "Значение w: [0.21011172]\n",
            "Current error: 0.25185259652178993\n",
            "Значение w: [0.21011254]\n",
            "Current error: 0.25185264364356796\n",
            "Значение w: [0.21011311]\n",
            "Current error: 0.25185267554989027\n",
            "Значение w: [0.21011349]\n",
            "Current error: 0.2518526971524956\n",
            "Значение w: [0.21011374]\n",
            "Current error: 0.2518527117782448\n",
            "Значение w: [0.21011392]\n",
            "Current error: 0.25185272168014017\n",
            "Значение w: [0.21011403]\n",
            "Current error: 0.2518527283837788\n",
            "Значение w: [0.21011411]\n",
            "Current error: 0.2518527329221232\n",
            "Значение w: [0.21011417]\n",
            "Current error: 0.2518527359945441\n",
            "Значение w: [0.21011421]\n",
            "Current error: 0.2518527380745347\n",
            "Значение w: [0.21011423]\n",
            "Current error: 0.2518527394826572\n",
            "Значение w: [0.21011425]\n",
            "Current error: 0.25185274043593314\n",
            "Значение w: [0.21011426]\n",
            "Current error: 0.25185274108128325\n",
            "Значение w: [0.21011427]\n",
            "Current error: 0.25185274151817333\n",
            "Значение w: [0.21011427]\n",
            "Current error: 0.25185274181393963\n",
            "Значение w: [0.21011427]\n",
            "Current error: 0.2518527420141673\n",
            "Значение w: [0.21011428]\n",
            "Current error: 0.2518527421497169\n",
            "Значение w: [0.21011428]\n",
            "Current error: 0.2518527422414823\n",
            "Значение w: [0.21011428]\n",
            "Current error: 0.25185274230360527\n",
            "Значение w: [0.21011428]\n"
          ],
          "name": "stdout"
        }
      ]
    },
    {
      "cell_type": "markdown",
      "metadata": {
        "id": "-j1VzdPKiU5F"
      },
      "source": [
        "Реализуем функцию, вычисляющую вектор весов по нормальному уравнению линейной регрессии, и применим ее.\r\n",
        "$$w = (X^{T}X + \\lambda E)^{-1}X^{T}y \\Leftrightarrow (X^{T}X + \\lambda E)w = X^{T}y$$"
      ]
    },
    {
      "cell_type": "code",
      "metadata": {
        "colab": {
          "base_uri": "https://localhost:8080/"
        },
        "id": "IjGi6HLPdMC0",
        "outputId": "997d0c3f-f2b4-4c05-dbe5-b15c05be3751"
      },
      "source": [
        "# Вариант по формуле нормального уравнения линейной регрессии с L2-регуляризацией\r\n",
        "def normal_equation(X, y, l2_coef = 0.1):\r\n",
        "    return np.dot(np.linalg.inv((X.T).dot(X) + l2_coef * E), (X.T).dot(y))\r\n",
        "\r\n",
        "normal_eq_w = normal_equation(X, Y, l2_coef)\r\n",
        "print(f'В случае использования нормального уравнения функционал ошибки составляет {round(mserror_L2(X, normal_eq_w, Y), 6)}, а веса: {normal_eq_w}. Для сравнения w_true: {w_true}')"
      ],
      "execution_count": 73,
      "outputs": [
        {
          "output_type": "stream",
          "text": [
            "В случае использования нормального уравнения функционал ошибки составляет 0.393547, а веса: [ 0.68911463 -0.97500563]. Для сравнения w_true: [ 0.69551977 -0.97947417]\n"
          ],
          "name": "stdout"
        }
      ]
    },
    {
      "cell_type": "code",
      "metadata": {
        "colab": {
          "base_uri": "https://localhost:8080/"
        },
        "id": "SQXleTOXRZgx",
        "outputId": "726f736c-3563-44af-c31a-3fe276ea43d9"
      },
      "source": [
        "# Вариант по формуле нормального уравнения линейной регрессии\r\n",
        "def normal_equation(X, y):\r\n",
        "    return np.linalg.solve((X.T).dot(X), (X.T).dot(y))\r\n",
        "\r\n",
        "normal_eq_w = normal_equation(X, Y)\r\n",
        "print(f'В случае использования нормального уравнения функционал ошибки составляет {round(mserror(X, normal_eq_w, Y), 4)}, а веса: {normal_eq_w}. Для сравнения w_true: {w_true}')"
      ],
      "execution_count": 74,
      "outputs": [
        {
          "output_type": "stream",
          "text": [
            "В случае использования нормального уравнения функционал ошибки составляет 0.251, а веса: [ 0.68911893 -0.97501159]. Для сравнения w_true: [ 0.69551977 -0.97947417]\n"
          ],
          "name": "stdout"
        }
      ]
    },
    {
      "cell_type": "code",
      "metadata": {
        "colab": {
          "base_uri": "https://localhost:8080/",
          "height": 406
        },
        "id": "Uxv3e7kNus99",
        "outputId": "f57dba3d-e2ac-4b07-e710-589b467289c9"
      },
      "source": [
        "# Визуализируем изменение весов (красной точкой обозначены истинные веса, сгенерированные вначале)\r\n",
        "plt.figure(figsize=(13, 6))\r\n",
        "plt.title('Gradient descent')\r\n",
        "plt.xlabel(r'$w_1$')\r\n",
        "plt.ylabel(r'$w_2$')\r\n",
        "\r\n",
        "plt.scatter(w_list[:, 0], w_list[:, 1])\r\n",
        "plt.scatter(w_true[0], w_true[1], c='r')\r\n",
        "plt.plot(w_list[:, 0], w_list[:, 1])\r\n",
        "\r\n",
        "plt.show()"
      ],
      "execution_count": 114,
      "outputs": [
        {
          "output_type": "display_data",
          "data": {
            "image/png": "[encoded data removed]",
            "text/plain": [
              "<Figure size 936x432 with 1 Axes>"
            ]
          },
          "metadata": {
            "tags": [],
            "needs_background": "light"
          }
        }
      ]
    },
    {
      "cell_type": "code",
      "metadata": {
        "colab": {
          "base_uri": "https://localhost:8080/",
          "height": 312
        },
        "id": "HqAkTfuKuyN5",
        "outputId": "3316d548-16f2-406e-b29e-44479fb660ac"
      },
      "source": [
        "# Визуализируем изменение функционала ошибки\r\n",
        "plt.plot(range(len(errors)), errors)\r\n",
        "plt.title('MSE')\r\n",
        "plt.xlabel('Iteration number')\r\n",
        "plt.ylabel('MSE')"
      ],
      "execution_count": 89,
      "outputs": [
        {
          "output_type": "execute_result",
          "data": {
            "text/plain": [
              "Text(0, 0.5, 'MSE')"
            ]
          },
          "metadata": {
            "tags": []
          },
          "execution_count": 89
        },
        {
          "output_type": "display_data",
          "data": {
            "image/png": "[encoded data removed]",
            "text/plain": [
              "<Figure size 432x288 with 1 Axes>"
            ]
          },
          "metadata": {
            "tags": [],
            "needs_background": "light"
          }
        }
      ]
    },
    {
      "cell_type": "code",
      "metadata": {
        "colab": {
          "base_uri": "https://localhost:8080/",
          "height": 265
        },
        "id": "XAyeyLc_rrA1",
        "outputId": "39b3ae59-2e9a-43ef-8eba-0b5667e09547"
      },
      "source": [
        "x = np.linspace(-50, 50, 5000)\r\n",
        "l2_coef = 15\r\n",
        "def func2(_x, _l2_coef): return (_x**2)*(np.sin(0.5*_x)**2+1) + _l2_coef * _x**2\r\n",
        "plt.plot(x, func2(x, l2_coef))\r\n",
        "plt.show()"
      ],
      "execution_count": 179,
      "outputs": [
        {
          "output_type": "display_data",
          "data": {
            "image/png": "[encoded data removed]",
            "text/plain": [
              "<Figure size 432x288 with 1 Axes>"
            ]
          },
          "metadata": {
            "tags": [],
            "needs_background": "light"
          }
        }
      ]
    },
    {
      "cell_type": "code",
      "metadata": {
        "colab": {
          "base_uri": "https://localhost:8080/"
        },
        "id": "NCvQn9UXrrfz",
        "outputId": "1c04e30c-2137-41d4-a9d9-72587edcdf9a"
      },
      "source": [
        "def true_grad2(_x, _l2_coef): return _x*(2+2*np.sin(0.5*_x)**2+_x*np.sin(0.5*_x)*np.cos(0.5*_x)) + _l2_coef * 2 * _x  # Находим производную по фурмулам\r\n",
        "print('true grad', true_grad2(x0, l2_coef))"
      ],
      "execution_count": 180,
      "outputs": [
        {
          "output_type": "stream",
          "text": [
            "true grad -554.5067568188659\n"
          ],
          "name": "stdout"
        }
      ]
    },
    {
      "cell_type": "code",
      "metadata": {
        "colab": {
          "base_uri": "https://localhost:8080/"
        },
        "id": "96mzTgHbrv2y",
        "outputId": "c356c396-b72f-4e8a-8a83-9ec70f0668c9"
      },
      "source": [
        "#x0=np.random.uniform(-50, 50)\r\n",
        "x0=-18\r\n",
        "print(x0)\r\n",
        "alpha=0.005\r\n",
        "w_list=[]\r\n",
        "for x in range(1000):\r\n",
        "  if x%20==0:\r\n",
        "    print(x0, func2(x0, l2_coef))\r\n",
        "  w_list.append([x0, func2(x0, l2_coef)])\r\n",
        "  x0-=alpha*true_grad2(x0, l2_coef)\r\n",
        "w_list=np.array(w_list)"
      ],
      "execution_count": 181,
      "outputs": [
        {
          "output_type": "stream",
          "text": [
            "-18\n",
            "-18 5239.028693264459\n",
            "-0.5044803019635365 4.08785809269132\n",
            "-0.015354889612711838 0.0037723760572078643\n",
            "-0.000469710589719732 3.530048621686917e-06\n",
            "-1.4368653465410713e-05 3.3033312385556047e-09\n",
            "-4.395434291815669e-07 3.091174818187067e-12\n",
            "-1.3445826820347344e-08 2.8926441421243516e-15\n",
            "-4.1131375622974365e-10 2.7068640970211357e-18\n",
            "-1.2582268708667675e-11 2.5330157737138832e-21\n",
            "-3.848971337800092e-13 2.370332857473061e-24\n",
            "-1.1774172609269712e-14 2.2180982501260343e-27\n",
            "-3.6017711867948786e-16 2.075640909124126e-30\n",
            "-1.1017976474892549e-17 1.9423328896205704e-33\n",
            "-3.370447463357953e-19 1.8175865765209695e-36\n",
            "-1.0310347030729928e-20 1.700852094305303e-39\n",
            "-3.153980504065542e-22 1.591614883204085e-42\n",
            "-9.6481650815213e-24 1.4893934310445905e-45\n",
            "-2.951416133368479e-25 1.3937371507692386e-48\n",
            "-9.028511762294848e-27 1.3042243942703427e-51\n",
            "-2.7618614576340245e-28 1.2204605937862942e-54\n",
            "-8.448655672156425e-30 1.1420765226665749e-57\n",
            "-2.584480929315299e-31 1.0687266678391155e-60\n",
            "-7.906040834410757e-33 1.0000877068059255e-63\n",
            "-2.41849266389943e-34 9.358570824536577e-67\n",
            "-7.398275429943817e-36 8.757516693969661e-70\n",
            "-2.2631649933996425e-37 8.195065259759366e-73\n",
            "-6.92312125420356e-39 7.668737264064812e-76\n",
            "-2.1178132411993095e-40 7.176212679358599e-79\n",
            "-6.478483851306018e-42 6.715320481861256e-82\n",
            "-1.9817967040316063e-43 6.284029081776861e-85\n",
            "-6.06240328177831e-45 5.880437368146628e-88\n",
            "-1.854515827791501e-46 5.502766328846714e-91\n",
            "-5.673045483243324e-48 5.149351208791597e-94\n",
            "-1.735409564731189e-49 4.818634171776791e-97\n",
            "-5.308694185964313e-51 4.509157433614608e-100\n",
            "-1.6239529003896365e-52 4.21955683629426e-103\n",
            "-4.967743347613582e-54 3.9485558348414395e-106\n",
            "-1.5196545393550437e-55 3.694959870371824e-109\n",
            "-4.6486900739180924e-57 3.457651104535136e-112\n",
            "-1.4220547396592012e-58 3.2355834921395174e-115\n",
            "-4.350127993976546e-60 3.027778170236545e-118\n",
            "-1.3307232862578478e-61 2.8333191433422174e-121\n",
            "-4.070741061046658e-63 2.651349245774603e-124\n",
            "-1.2452575946642304e-64 2.481066363310312e-127\n",
            "-3.809297751476832e-66 2.3217198975050315e-130\n",
            "-1.1652809363767915e-67 2.172607457093075e-133\n",
            "-3.5646456362113806e-69 2.033071761881734e-136\n",
            "-1.0904407782787375e-70 1.902497745493022e-139\n",
            "-3.3357063009407867e-72 1.7803098441817707e-142\n",
            "-1.0204072286896634e-73 1.6659694597793903e-145\n"
          ],
          "name": "stdout"
        }
      ]
    },
    {
      "cell_type": "code",
      "metadata": {
        "colab": {
          "base_uri": "https://localhost:8080/",
          "height": 406
        },
        "id": "0njJgtqKrx2s",
        "outputId": "fb7e81ff-4f3e-486a-96d4-520ce30fc055"
      },
      "source": [
        "# Визуализируем изменение весов (красной точкой обозначены истинные веса, сгенерированные вначале)\r\n",
        "plt.figure(figsize=(13, 6))\r\n",
        "plt.title('Gradient descent')\r\n",
        "plt.xlabel(r'$x0$')\r\n",
        "plt.ylabel(r'$y$')\r\n",
        "\r\n",
        "plt.scatter(w_list[:, 0], w_list[:, 1])\r\n",
        "plt.scatter(0, 0, c='r')\r\n",
        "plt.plot(w_list[:, 0], w_list[:, 1])\r\n",
        "\r\n",
        "plt.show()"
      ],
      "execution_count": 182,
      "outputs": [
        {
          "output_type": "display_data",
          "data": {
            "image/png": "[encoded data removed]",
            "text/plain": [
              "<Figure size 936x432 with 1 Axes>"
            ]
          },
          "metadata": {
            "tags": [],
            "needs_background": "light"
          }
        }
      ]
    },
    {
      "cell_type": "markdown",
      "metadata": {
        "id": "FPBjJqyRxqyH"
      },
      "source": [
        "Из того, что я заметил, играясь с коэффициентом L2-регуляризации: чем он больше, тем у меня получалась более гладкая функция в последнем примере."
      ]
    },
    {
      "cell_type": "markdown",
      "metadata": {
        "id": "Zx6_EAuK8ebo"
      },
      "source": [
        "**Задание 2:** Модифицировать пример со стохастическим градиентом из этого урока, реализовав в нём рассчёт градиента по десяти случайно выбираемым объектам (mini-batch градиент)."
      ]
    },
    {
      "cell_type": "code",
      "metadata": {
        "id": "gEbXp_lT2icV"
      },
      "source": [
        "data, target, coef = datasets.make_regression(n_samples=1000, n_features = 2, n_informative = 2, \r\n",
        "                                              n_targets = 1, \r\n",
        "                                              noise = 5, coef = True, random_state = 2)"
      ],
      "execution_count": null,
      "outputs": []
    },
    {
      "cell_type": "code",
      "metadata": {
        "colab": {
          "base_uri": "https://localhost:8080/",
          "height": 406
        },
        "id": "AwlQiFe-zlz3",
        "outputId": "c67fd8e1-a84e-42c1-868f-1cfd96934898"
      },
      "source": [
        "plt.figure(figsize=(13, 6))\r\n",
        "plt.title('Sample data')\r\n",
        "plt.xlabel(r'$X$')\r\n",
        "plt.ylabel(r'$y$')\r\n",
        "\r\n",
        "plt.scatter(data[:, 0], data[:, 1])\r\n",
        "plt.xlim([-10, 10])\r\n",
        "plt.ylim([-10, 10])\r\n",
        "\r\n",
        "plt.show()"
      ],
      "execution_count": null,
      "outputs": [
        {
          "output_type": "display_data",
          "data": {
            "image/png": "[encoded data removed]",
            "text/plain": [
              "<Figure size 936x432 with 1 Axes>"
            ]
          },
          "metadata": {
            "tags": [],
            "needs_background": "light"
          }
        }
      ]
    },
    {
      "cell_type": "code",
      "metadata": {
        "id": "_8FMW-av2mQq"
      },
      "source": [
        "# Получим средние значения и стандартное отклонение по столбцам\r\n",
        "\r\n",
        "means = np.mean(data, axis=0)  # array([-1.77323434e-17,  1.03805853e-17])\r\n",
        "stds = np.std(data, axis=0)  # array([1., 1.])\r\n",
        "# параметр axis указывается для вычисления значений по столбцам, а не по всему массиву\r\n",
        "#(см. документацию в разделе источников)\r\n",
        "\r\n",
        "# вычтем каждое значение признака из среднего и поделим на стандартное отклонение\r\n",
        "for i in range(data.shape[0]):\r\n",
        "    for j in range(data.shape[1]):\r\n",
        "        data[i][j] = (data[i][j] - means[j])/stds[j]"
      ],
      "execution_count": null,
      "outputs": []
    },
    {
      "cell_type": "code",
      "metadata": {
        "id": "o12872W1zCw2"
      },
      "source": [
        "# реализуем функцию, определяющую среднеквадратичную ошибку\r\n",
        "def mserror(X, w, y_pred):\r\n",
        "    y = X.dot(w)\r\n",
        "    return (sum((y - y_pred)**2)) / len(y)"
      ],
      "execution_count": null,
      "outputs": []
    },
    {
      "cell_type": "code",
      "metadata": {
        "colab": {
          "base_uri": "https://localhost:8080/"
        },
        "id": "p5uPlFSbCPty",
        "outputId": "020c3f0e-cd6f-4fd7-ad79-d36c69790a45"
      },
      "source": [
        "# инициализируем начальный вектор весов\r\n",
        "w = np.zeros(2)\r\n",
        "\r\n",
        "# список векторов весов после каждой итерации\r\n",
        "w_list = [w.copy()]\r\n",
        "\r\n",
        "# список значений ошибок после каждой итерации\r\n",
        "errors = []\r\n",
        "\r\n",
        "# шаг градиентного спуска\r\n",
        "eta = 0.01\r\n",
        "\r\n",
        "# максимальное число итераций\r\n",
        "max_iter = 1e5\r\n",
        "\r\n",
        "# критерий сходимости (разница весов, при которой алгоритм останавливается)\r\n",
        "min_weight_dist = 1e-8\r\n",
        "\r\n",
        "# зададим начальную разницу весов большим числом\r\n",
        "weight_dist = np.inf\r\n",
        "\r\n",
        "# счетчик итераций\r\n",
        "iter_num = 0\r\n",
        "\r\n",
        "# prepare batches\r\n",
        "batch_size = 10\r\n",
        "\r\n",
        "data_indices = np.arange(0, data.shape[0])\r\n",
        "rng.shuffle(data_indices)\r\n",
        "n_batches = data.shape[0] // batch_size\r\n",
        "indices_splitted = np.array_split(data_indices, n_batches)\r\n",
        "\r\n",
        "# ход градиентного спуска\r\n",
        "while weight_dist > min_weight_dist and iter_num < max_iter:\r\n",
        "    \r\n",
        "    # генерируем случайный индекс объекта выборки\r\n",
        "    #train_ind = rng.choice(data.shape[0], size=10, replace=False)\r\n",
        "    train_ind = rng.choice(indices_splitted, size=1, replace=False)[0]\r\n",
        "    \r\n",
        "    new_w = w - 2 * eta * np.dot(data[train_ind].T, (np.dot(data[train_ind], w) - target[train_ind])) / target.shape[0]\r\n",
        "\r\n",
        "    weight_dist = np.linalg.norm(new_w - w, ord=2)\r\n",
        "    \r\n",
        "    w_list.append(new_w.copy())\r\n",
        "    error=mserror(data, new_w, target)\r\n",
        "    errors.append(error)\r\n",
        "    if iter_num %2000==0:\r\n",
        "        print(f'Iter_num: {iter_num}     Error: {error}     weights: {new_w}')\r\n",
        "    \r\n",
        "    iter_num += 1\r\n",
        "    w = new_w\r\n",
        "    \r\n",
        "w_list = np.array(w_list)\r\n",
        "\r\n",
        "print(f'В случае использования mini-batch градиентного спуска функционал ошибки составляет {round(min(errors), 4)} при весах {w_list[errors.index(min(errors))]}')"
      ],
      "execution_count": null,
      "outputs": [
        {
          "output_type": "stream",
          "text": [
            "Iter_num: 0     Error: 8188.540298458312     weights: [0.00705431 0.0100657 ]\n",
            "Iter_num: 2000     Error: 3837.6747921871065     weights: [19.32741484 21.62593691]\n",
            "Iter_num: 4000     Error: 1756.8867313838593     weights: [33.17712305 36.64769592]\n",
            "Iter_num: 6000     Error: 828.2384505452519     weights: [42.33330447 46.58922204]\n",
            "Iter_num: 8000     Error: 399.457844842881     weights: [48.48400626 53.45177726]\n",
            "Iter_num: 10000     Error: 202.40195297822453     weights: [52.76074589 58.04224327]\n",
            "Iter_num: 12000     Error: 113.6454865283762     weights: [55.59945496 61.1189008 ]\n",
            "Iter_num: 14000     Error: 72.71762806496997     weights: [57.50585694 63.24478798]\n",
            "Iter_num: 16000     Error: 54.00132386983215     weights: [58.78116285 64.70499551]\n",
            "Iter_num: 18000     Error: 45.70681180043749     weights: [59.62596547 65.65601727]\n",
            "Iter_num: 20000     Error: 41.74754552741806     weights: [60.23043313 66.32232992]\n",
            "Iter_num: 22000     Error: 40.04496436004542     weights: [60.60864752 66.75524568]\n",
            "Iter_num: 24000     Error: 39.24774937535425     weights: [60.87144978 67.05107106]\n",
            "Iter_num: 26000     Error: 38.86155276604156     weights: [61.05913086 67.26737034]\n",
            "Iter_num: 28000     Error: 38.713216736728825     weights: [61.17246482 67.38427722]\n",
            "Iter_num: 30000     Error: 38.64483997970914     weights: [61.26264065 67.44555708]\n",
            "Iter_num: 32000     Error: 38.60594207060338     weights: [61.34567675 67.49144052]\n",
            "Iter_num: 34000     Error: 38.589263444097504     weights: [61.36338624 67.53826766]\n",
            "Iter_num: 36000     Error: 38.57714490706181     weights: [61.38686998 67.58380094]\n",
            "Iter_num: 38000     Error: 38.57460040173973     weights: [61.41782666 67.58744615]\n",
            "Iter_num: 40000     Error: 38.57105615928859     weights: [61.44469445 67.61340784]\n",
            "Iter_num: 42000     Error: 38.57423396212334     weights: [61.43874527 67.58821582]\n",
            "Iter_num: 44000     Error: 38.57261958110325     weights: [61.4316495  67.59940134]\n",
            "Iter_num: 46000     Error: 38.568637132322465     weights: [61.44730733 67.64962149]\n",
            "Iter_num: 48000     Error: 38.568574270295144     weights: [61.44165444 67.64851522]\n",
            "Iter_num: 50000     Error: 38.568351692734716     weights: [61.44258779 67.65802427]\n",
            "Iter_num: 52000     Error: 38.56840158523505     weights: [61.42972662 67.65482686]\n",
            "Iter_num: 54000     Error: 38.568788645004446     weights: [61.41406306 67.65764904]\n",
            "Iter_num: 56000     Error: 38.5682564278068     weights: [61.43660068 67.66336463]\n",
            "Iter_num: 58000     Error: 38.56859024183843     weights: [61.45389796 67.67044942]\n",
            "Iter_num: 60000     Error: 38.5688451461823     weights: [61.45244313 67.68388705]\n",
            "Iter_num: 62000     Error: 38.56871580978846     weights: [61.45474743 67.67664585]\n",
            "Iter_num: 64000     Error: 38.568886387769645     weights: [61.4606144  67.66033244]\n",
            "Iter_num: 66000     Error: 38.56895999664902     weights: [61.46236333 67.6619185 ]\n",
            "Iter_num: 68000     Error: 38.568928162632936     weights: [61.46019604 67.67576559]\n",
            "Iter_num: 70000     Error: 38.569089451313864     weights: [61.46483801 67.66940641]\n",
            "Iter_num: 72000     Error: 38.56868202589062     weights: [61.4392322  67.64502513]\n",
            "Iter_num: 74000     Error: 38.568310082254705     weights: [61.43193217 67.65892969]\n",
            "Iter_num: 76000     Error: 38.568871542749804     weights: [61.43205956 67.64078224]\n",
            "Iter_num: 78000     Error: 38.56854031814244     weights: [61.42345158 67.65376865]\n",
            "Iter_num: 80000     Error: 38.56969502270794     weights: [61.4029733  67.64598288]\n",
            "Iter_num: 82000     Error: 38.57081609766373     weights: [61.39165118 67.64003747]\n",
            "Iter_num: 84000     Error: 38.569368267988395     weights: [61.42248502 67.63459199]\n",
            "Iter_num: 86000     Error: 38.56855565003777     weights: [61.42064022 67.65695672]\n",
            "Iter_num: 88000     Error: 38.568602250828675     weights: [61.45364465 67.67234321]\n",
            "Iter_num: 90000     Error: 38.56829338867787     weights: [61.43331235 67.65954893]\n",
            "Iter_num: 92000     Error: 38.56990757659825     weights: [61.44254612 67.70577991]\n",
            "Iter_num: 94000     Error: 38.568782919461434     weights: [61.4484115  67.68521507]\n",
            "Iter_num: 96000     Error: 38.569017493359745     weights: [61.4434007  67.69231116]\n",
            "Iter_num: 98000     Error: 38.56877249561107     weights: [61.45083106 67.64839909]\n",
            "В случае использования mini-batch градиентного спуска функционал ошибки составляет 38.5683 при весах [61.43617784 67.66502768]\n"
          ],
          "name": "stdout"
        }
      ]
    },
    {
      "cell_type": "code",
      "metadata": {
        "colab": {
          "base_uri": "https://localhost:8080/"
        },
        "id": "zNwyg4_YC1mo",
        "outputId": "cbb27270-e15b-4176-8d18-31542d3cac26"
      },
      "source": [
        "print(w_list[errors.index(min(errors))])\r\n",
        "print(coef)"
      ],
      "execution_count": null,
      "outputs": [
        {
          "output_type": "stream",
          "text": [
            "[61.43617784 67.66502768]\n",
            "[62.6735955 68.0472182]\n"
          ],
          "name": "stdout"
        }
      ]
    },
    {
      "cell_type": "code",
      "metadata": {
        "colab": {
          "base_uri": "https://localhost:8080/",
          "height": 406
        },
        "id": "OGCs_610zLwl",
        "outputId": "06583892-66e1-40a5-e153-62fc579456d9"
      },
      "source": [
        "# Визуализируем изменение весов (красной точкой обозначены истинные веса, сгенерированные вначале)\r\n",
        "plt.figure(figsize=(13, 6))\r\n",
        "plt.title('Mini-batch gradient descent')\r\n",
        "plt.xlabel(r'$w_1$')\r\n",
        "plt.ylabel(r'$w_2$')\r\n",
        "\r\n",
        "plt.scatter(w_list[:, 0], w_list[:, 1])\r\n",
        "plt.scatter(coef[0], coef[1], c='r')\r\n",
        "\r\n",
        "plt.show()"
      ],
      "execution_count": null,
      "outputs": [
        {
          "output_type": "display_data",
          "data": {
            "image/png": "[encoded data removed]",
            "text/plain": [
              "<Figure size 936x432 with 1 Axes>"
            ]
          },
          "metadata": {
            "tags": [],
            "needs_background": "light"
          }
        }
      ]
    },
    {
      "cell_type": "code",
      "metadata": {
        "colab": {
          "base_uri": "https://localhost:8080/",
          "height": 312
        },
        "id": "LOhiiBJdzMxs",
        "outputId": "b017e794-eb1a-4ae1-de1c-962b67d0ac54"
      },
      "source": [
        "# Визуализируем изменение функционала ошибки\r\n",
        "plt.plot(range(len(errors)), errors)\r\n",
        "plt.title('MSE')\r\n",
        "plt.xlabel('Iteration number')\r\n",
        "plt.ylabel('MSE')"
      ],
      "execution_count": null,
      "outputs": [
        {
          "output_type": "execute_result",
          "data": {
            "text/plain": [
              "Text(0, 0.5, 'MSE')"
            ]
          },
          "metadata": {
            "tags": []
          },
          "execution_count": 12
        },
        {
          "output_type": "display_data",
          "data": {
            "image/png": "[encoded data removed]",
            "text/plain": [
              "<Figure size 432x288 with 1 Axes>"
            ]
          },
          "metadata": {
            "tags": [],
            "needs_background": "light"
          }
        }
      ]
    },
    {
      "cell_type": "code",
      "metadata": {
        "id": "hipacDVpqz3c"
      },
      "source": [
        ""
      ],
      "execution_count": null,
      "outputs": []
    }
  ]
}